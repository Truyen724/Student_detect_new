{
 "cells": [
  {
   "cell_type": "code",
   "execution_count": 4,
   "metadata": {},
   "outputs": [
    {
     "name": "stdout",
     "output_type": "stream",
     "text": [
      "1\n"
     ]
    }
   ],
   "source": [
    "import data\n",
    "from data import procedure_data\n",
    "prod = procedure_data(path_data = \"DSHS.xlsx\")\n",
    "prod.data[\"absent\"].values[0]=1\n",
    "print(prod.data[\"absent\"].values[0])"
   ]
  },
  {
   "cell_type": "code",
   "execution_count": null,
   "metadata": {},
   "outputs": [],
   "source": []
  },
  {
   "cell_type": "code",
   "execution_count": 6,
   "metadata": {},
   "outputs": [
    {
     "name": "stdout",
     "output_type": "stream",
     "text": [
      "None\n"
     ]
    }
   ],
   "source": [
    "x = prod.get_out(100,100,200,200)\n",
    "print(x)"
   ]
  },
  {
   "cell_type": "code",
   "execution_count": 6,
   "metadata": {},
   "outputs": [
    {
     "name": "stdout",
     "output_type": "stream",
     "text": [
      "                           Tên    X    Y  absent       result\n",
      "STT                                                          \n",
      "1               1_Vũ Ngọc Tuấn  190  402       0   368.078181\n",
      "2               2_Lê Thanh Nam  277  353       0   385.826941\n",
      "3         3_Nguyễn Quốc Trường  353  319       0   490.728123\n",
      "4                 4_Lý Tấn Đạt  405  293       0   573.711776\n",
      "5             5_Phạm Thành Nam  457  272       0   664.849769\n",
      "6              6_Lê Quang Vịnh  496  252       0   735.970996\n",
      "7            7_Nguyễn Hoài Nam  306  431       0   523.273324\n",
      "8        8_Nguyễn Trọng Truyền  404  380       0   619.493007\n",
      "9               9_Lê Xuân Vinh  480  343       0   731.140698\n",
      "10          10_Nông Thanh Ngân  530  310       0   810.954847\n",
      "11            11_Mai Ngọc Linh  584  285       0   907.613972\n",
      "12   12_Nguyễn Thị Hoàng Thanh  618  265       0   970.198988\n",
      "13         13_Trần Mậu Bảo Duy  539  503       0   967.855260\n",
      "14            14_Tống Hoàng Vũ  621  432       0  1046.701830\n",
      "15             15_Đỗ Trung Hậu  675  367       0  1109.270989\n",
      "16            16_Phạm Tấn Kiệt  730  328       0  1200.444467\n",
      "17        17_Bùi Thị Phương Vy  761  300       0  1253.818428\n",
      "18            18_Lương Văn Sơn  778  275       0  1283.066285\n",
      "19         19_Nguyễn Trung Đức  842  593       0  1577.299156\n",
      "20             20_Phan Văn Tài  886  472       0  1566.350057\n",
      "21    21_Nguyễn Ngọc Huy Hoàng  910  407       0  1578.511229\n",
      "22           22_Phan Văn Tường  925  355       0  1588.527519\n",
      "23     23_Nguyễn Duy Ngọc Linh  939  319       0  1606.761213\n",
      "24         24_Thiều Quang Hùng  949  289       0  1621.262605\n"
     ]
    }
   ],
   "source": [
    "print(prod.data)"
   ]
  }
 ],
 "metadata": {
  "kernelspec": {
   "display_name": "Python 3.8.3 ('base')",
   "language": "python",
   "name": "python3"
  },
  "language_info": {
   "codemirror_mode": {
    "name": "ipython",
    "version": 3
   },
   "file_extension": ".py",
   "mimetype": "text/x-python",
   "name": "python",
   "nbconvert_exporter": "python",
   "pygments_lexer": "ipython3",
   "version": "3.8.3"
  },
  "orig_nbformat": 4,
  "vscode": {
   "interpreter": {
    "hash": "a90aeebcf29d64a654773811cc170cb25061cb2498f10ac689db374c7bf325de"
   }
  }
 },
 "nbformat": 4,
 "nbformat_minor": 2
}
