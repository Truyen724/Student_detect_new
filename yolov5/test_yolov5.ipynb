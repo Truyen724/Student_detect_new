{
 "cells": [
  {
   "cell_type": "code",
   "execution_count": null,
   "metadata": {},
   "outputs": [],
   "source": [
    "# import torch\n",
    "import utils\n",
    "import pandas as pd\n",
    "import cv2 \n",
    "from scipy.spatial import distance"
   ]
  },
  {
   "cell_type": "code",
   "execution_count": null,
   "metadata": {},
   "outputs": [],
   "source": [
    "data = pd.read_excel(\"DSHS.xlsx\",index_col = \"STT\")\n",
    "data.iloc[4][\"X\"]\n",
    "def get_sum_distance(x,**kwargs):\n",
    "    top = kwargs[\"kwargs\"][\"top\"]\n",
    "    bot = kwargs[\"kwargs\"][\"bot\"]\n",
    "    bc =(x[0],x[1])\n",
    "    tc =(x[0],x[1]-150)\n",
    "    a = distance.euclidean(top,tc)\n",
    "    b = distance.euclidean(bot,bc)\n",
    "    return a+b"
   ]
  },
  {
   "cell_type": "code",
   "execution_count": null,
   "metadata": {},
   "outputs": [],
   "source": [
    "data[\"result\"] = data[[\"X\",\"Y\"]].apply(get_sum_distance, kwargs = {\"top\":(100,100),\"bot\":(200,200)},axis=1)"
   ]
  },
  {
   "cell_type": "code",
   "execution_count": null,
   "metadata": {},
   "outputs": [],
   "source": [
    "# data[\"result\"]\n",
    "out = data[ data[\"result\"]== data[\"result\"].min()]\n",
    "print(out[\"Tên\"].values[0])"
   ]
  },
  {
   "cell_type": "code",
   "execution_count": null,
   "metadata": {},
   "outputs": [],
   "source": [
    "import data\n",
    "from data import procedure_data\n",
    "prod = procedure_data(path_data = \"DSHS.xlsx\")\n",
    "print(prod.data)"
   ]
  },
  {
   "cell_type": "code",
   "execution_count": null,
   "metadata": {},
   "outputs": [],
   "source": [
    "x = prod.get_out(100,100,200,200)\n",
    "print(x)"
   ]
  },
  {
   "cell_type": "code",
   "execution_count": null,
   "metadata": {},
   "outputs": [],
   "source": [
    "def get_out(x1,y1,x2,y2):\n",
    "    data[\"result\"] = data[[\"X\",\"Y\"]].apply(get_sum_distance, kwargs = {\"top\":(x1,y1),\"bot\":(x2,y2)},axis=1)\n",
    "    out = data[data[\"result\"]== data[\"result\"].min()]\n",
    "    return out[\"Tên\"].values[0]"
   ]
  },
  {
   "cell_type": "code",
   "execution_count": null,
   "metadata": {},
   "outputs": [],
   "source": [
    "get_out(100,100,200,200)"
   ]
  },
  {
   "cell_type": "code",
   "execution_count": null,
   "metadata": {},
   "outputs": [],
   "source": [
    "# Python code to find Euclidean distance\n",
    "# using distance.euclidean() method\n",
    "\n",
    "# Import SciPi Library\n",
    "from scipy.spatial import distance\n",
    "\n",
    "# initializing points in\n",
    "# numpy arrays\n",
    "point1 = (4, 4)\n",
    "point2 = (1, 2)\n",
    "print(type(point1[0]))\n",
    "# print Euclidean distance \n",
    "print(distance.euclidean(point1,point2))\n"
   ]
  },
  {
   "cell_type": "code",
   "execution_count": null,
   "metadata": {},
   "outputs": [],
   "source": [
    "import re\n",
    "\n",
    "\n",
    "def no_accent_vietnamese(s):\n",
    "    s = s.decode('utf-8')\n",
    "    s = re.sub(u'[àáạảãâầấậẩẫăằắặẳẵ]', 'a', s)\n",
    "    s = re.sub(u'[ÀÁẠẢÃĂẰẮẶẲẴÂẦẤẬẨẪ]', 'A', s)\n",
    "    s = re.sub(u'èéẹẻẽêềếệểễ', 'e', s)\n",
    "    s = re.sub(u'ÈÉẸẺẼÊỀẾỆỂỄ', 'E', s)\n",
    "    s = re.sub(u'òóọỏõôồốộổỗơờớợởỡ', 'o', s)\n",
    "    s = re.sub(u'ÒÓỌỎÕÔỒỐỘỔỖƠỜỚỢỞỠ', 'O', s)\n",
    "    s = re.sub(u'ìíịỉĩ', 'i', s)\n",
    "    s = re.sub(u'ÌÍỊỈĨ', 'I', s)\n",
    "    s = re.sub(u'ùúụủũưừứựửữ', 'u', s)\n",
    "    s = re.sub(u'ƯỪỨỰỬỮÙÚỤỦŨ', 'U', s)\n",
    "    s = re.sub(u'ỳýỵỷỹ', 'y', s)\n",
    "    s = re.sub(u'ỲÝỴỶỸ', 'Y', s)\n",
    "    s = re.sub(u'Đ', 'D', s)\n",
    "    s = re.sub(u'đ', 'd', s)\n",
    "    return s.encode('utf-8')\n",
    "\n",
    "print(no_accent_vietnamese(\"Việt Nam Đất Nước Con Người\"))\n",
    "print(no_accent_vietnamese(\"Welcome to Vietnam !\"))\n",
    "print(no_accent_vietnamese(\"VIỆT NAM ĐẤT NƯỚC CON NGƯỜI\"))"
   ]
  }
 ],
 "metadata": {
  "kernelspec": {
   "display_name": "Python 3.8.3 ('base')",
   "language": "python",
   "name": "python3"
  },
  "language_info": {
   "codemirror_mode": {
    "name": "ipython",
    "version": 3
   },
   "file_extension": ".py",
   "mimetype": "text/x-python",
   "name": "python",
   "nbconvert_exporter": "python",
   "pygments_lexer": "ipython3",
   "version": "3.8.3"
  },
  "orig_nbformat": 4,
  "vscode": {
   "interpreter": {
    "hash": "a90aeebcf29d64a654773811cc170cb25061cb2498f10ac689db374c7bf325de"
   }
  }
 },
 "nbformat": 4,
 "nbformat_minor": 2
}
